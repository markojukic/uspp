{
 "cells": [
  {
   "cell_type": "code",
   "execution_count": 1,
   "metadata": {},
   "outputs": [],
   "source": [
    "from dictionary_graph import DictionaryGraph\n",
    "import pandas as pd\n",
    "import numpy as np\n",
    "import networkx as nx\n",
    "import matplotlib.pyplot as plt"
   ]
  },
  {
   "cell_type": "code",
   "execution_count": 2,
   "metadata": {},
   "outputs": [],
   "source": [
    "def similarity_limit(A, B, iterations=100):\n",
    "    Z = np.full((B.shape[0], A.shape[0]), 1)\n",
    "    for i in range(2*iterations): # Paran broj iteracija\n",
    "        Z = B @ Z @ A.T + B.T @ Z @ A\n",
    "        Z /= np.linalg.norm(Z, 'fro')\n",
    "    return Z"
   ]
  },
  {
   "cell_type": "code",
   "execution_count": 3,
   "metadata": {},
   "outputs": [],
   "source": [
    "graph = DictionaryGraph('OPTED', 'a-z')\n",
    "\n",
    "def get_synonyms(word, n=10):\n",
    "    vertices, adjacency_matrix = graph.adjacency_matrix(word)\n",
    "    S = pd.DataFrame(similarity_limit(\n",
    "        np.array([\n",
    "            [0, 1, 0],\n",
    "            [0, 0, 1],\n",
    "            [0, 0, 0],\n",
    "        ], dtype=np.float64),\n",
    "        adjacency_matrix,\n",
    "    ), index=vertices)\n",
    "    return S[1].nlargest(n)"
   ]
  },
  {
   "cell_type": "code",
   "execution_count": 4,
   "metadata": {},
   "outputs": [
    {
     "data": {
      "text/plain": [
       "value\n",
       "disappear    0.372864\n",
       "vanish       0.196902\n",
       "pass         0.150385\n",
       "die          0.123481\n",
       "fade         0.111587\n",
       "faint        0.105166\n",
       "wear         0.091632\n",
       "gradually    0.087204\n",
       "light        0.066426\n",
       "evanid       0.061807\n",
       "Name: 1, dtype: float64"
      ]
     },
     "execution_count": 4,
     "metadata": {},
     "output_type": "execute_result"
    }
   ],
   "source": [
    "get_synonyms('disappear')"
   ]
  },
  {
   "cell_type": "code",
   "execution_count": 5,
   "metadata": {},
   "outputs": [
    {
     "data": {
      "text/plain": [
       "value\n",
       "parallelogram    0.340849\n",
       "square           0.231558\n",
       "rhomb            0.153895\n",
       "parallel         0.153037\n",
       "figure           0.152685\n",
       "angles           0.135860\n",
       "equal            0.126557\n",
       "opposite         0.126297\n",
       "quadrilateral    0.115235\n",
       "right            0.111697\n",
       "Name: 1, dtype: float64"
      ]
     },
     "execution_count": 5,
     "metadata": {},
     "output_type": "execute_result"
    }
   ],
   "source": [
    "get_synonyms('parallelogram')"
   ]
  },
  {
   "cell_type": "code",
   "execution_count": 6,
   "metadata": {},
   "outputs": [
    {
     "data": {
      "text/plain": [
       "value\n",
       "sugar       0.410236\n",
       "sucrose     0.068085\n",
       "cane        0.067927\n",
       "starch      0.064562\n",
       "sweet       0.061286\n",
       "dextrose    0.059788\n",
       "milk        0.056647\n",
       "white       0.053995\n",
       "obtained    0.048164\n",
       "juice       0.047120\n",
       "Name: 1, dtype: float64"
      ]
     },
     "execution_count": 6,
     "metadata": {},
     "output_type": "execute_result"
    }
   ],
   "source": [
    "get_synonyms('sugar')"
   ]
  },
  {
   "cell_type": "code",
   "execution_count": 7,
   "metadata": {},
   "outputs": [
    {
     "data": {
      "text/plain": [
       "value\n",
       "science        0.410076\n",
       "art            0.144694\n",
       "branch         0.078969\n",
       "study          0.067951\n",
       "practice       0.051830\n",
       "knowledge      0.051790\n",
       "natural        0.050882\n",
       "learning       0.049035\n",
       "skill          0.045213\n",
       "application    0.045135\n",
       "Name: 1, dtype: float64"
      ]
     },
     "execution_count": 7,
     "metadata": {},
     "output_type": "execute_result"
    }
   ],
   "source": [
    "get_synonyms('science')"
   ]
  }
 ],
 "metadata": {
  "kernelspec": {
   "display_name": "Python 3",
   "language": "python",
   "name": "python3"
  },
  "language_info": {
   "codemirror_mode": {
    "name": "ipython",
    "version": 3
   },
   "file_extension": ".py",
   "mimetype": "text/x-python",
   "name": "python",
   "nbconvert_exporter": "python",
   "pygments_lexer": "ipython3",
   "version": "3.8.6"
  }
 },
 "nbformat": 4,
 "nbformat_minor": 4
}
