{
 "cells": [
  {
   "cell_type": "code",
   "execution_count": 1,
   "metadata": {},
   "outputs": [],
   "source": [
    "from dictionary_graph import DictionaryGraph\n",
    "import pandas as pd\n",
    "import numpy as np\n",
    "import networkx as nx\n",
    "import matplotlib.pyplot as plt"
   ]
  },
  {
   "cell_type": "code",
   "execution_count": 2,
   "metadata": {},
   "outputs": [],
   "source": [
    "def similarity_limit(A, B, iterations=10):\n",
    "    Z = np.full((B.shape[0], A.shape[0]), 1)\n",
    "    for i in range(2*iterations): # Paran broj iteracija\n",
    "        Z = B @ Z @ A.T + B.T @ Z @ A\n",
    "        Z /= np.linalg.norm(Z, 'fro')\n",
    "    return Z"
   ]
  },
  {
   "cell_type": "code",
   "execution_count": 3,
   "metadata": {},
   "outputs": [],
   "source": [
    "graph = DictionaryGraph('OPTED', 'a-z')\n",
    "\n",
    "def get_synonyms(word, n=10, **kwargs):\n",
    "    vertices, adjacency_matrix = graph.adjacency_matrix(word, **kwargs)\n",
    "    S = pd.DataFrame(similarity_limit(\n",
    "        np.array([\n",
    "            [0, 1, 0],\n",
    "            [0, 0, 1],\n",
    "            [0, 0, 0],\n",
    "        ], dtype=np.float64),\n",
    "        adjacency_matrix,\n",
    "    ), index=vertices)\n",
    "    return S[1].nlargest(n)"
   ]
  },
  {
   "cell_type": "code",
   "execution_count": 4,
   "metadata": {},
   "outputs": [
    {
     "name": "stdout",
     "output_type": "stream",
     "text": [
      "(0, None)\n",
      "value\n",
      "to           0.191060\n",
      "as           0.188393\n",
      "a            0.180136\n",
      "or           0.178049\n",
      "of           0.173065\n",
      "the          0.160774\n",
      "disappear    0.142423\n",
      "be           0.131523\n",
      "from         0.126350\n",
      "at           0.109615\n",
      "Name: 1, dtype: float64\n",
      "(1, None)\n",
      "value\n",
      "disappear    0.372840\n",
      "vanish       0.196909\n",
      "pass         0.150394\n",
      "die          0.123490\n",
      "fade         0.111597\n",
      "faint        0.105173\n",
      "wear         0.091636\n",
      "gradually    0.087202\n",
      "light        0.066422\n",
      "evanid       0.061815\n",
      "Name: 1, dtype: float64\n",
      "(2, None)\n",
      "value\n",
      "evanid         0.579632\n",
      "vanish         0.016232\n",
      "disappear      0.015307\n",
      "faint          0.007629\n",
      "fade           0.001704\n",
      "die            0.001570\n",
      "pass           0.001428\n",
      "dissipate      0.001419\n",
      "evanesce       0.001418\n",
      "disappeared    0.000820\n",
      "Name: 1, dtype: float64\n",
      "(2, <ufunc 'sqrt'>)\n",
      "value\n",
      "evanid       0.410771\n",
      "disappear    0.269405\n",
      "vanish       0.182102\n",
      "faint        0.107490\n",
      "fade         0.102513\n",
      "die          0.074299\n",
      "pass         0.064375\n",
      "eliminate    0.057996\n",
      "dissipate    0.054495\n",
      "evanesce     0.051774\n",
      "Name: 1, dtype: float64\n",
      "(2, <function <lambda> at 0x7f23704db3a0>)\n",
      "value\n",
      "disappear    0.301652\n",
      "evanid       0.187023\n",
      "vanish       0.181789\n",
      "to           0.120951\n",
      "as           0.110818\n",
      "fade         0.108217\n",
      "faint        0.105790\n",
      "pass         0.105755\n",
      "die          0.103574\n",
      "or           0.095791\n",
      "Name: 1, dtype: float64\n"
     ]
    }
   ],
   "source": [
    "# Metoda 0: Koristi sve veze među riječima\n",
    "# Metoda 1: Uklanja riječi iz induciranog grafa koje se pojavljuju u definicijama više od 1000 puta\n",
    "# Metoda 2: adjacency_matrix[i][j] iz metode 0 je dijelimo s brojem ukupnih pojavljivanja riječi j u definicijama\n",
    "# Metoda 2, f: adjacency_matrix[i][j] iz metode 0 dijelimo s f(broj ukupnih pojavljivanja riječi j u definicijama)\n",
    "for method, f in [(0, None), (1, None), (2, None), (2, np.sqrt), (2, lambda x: np.log(1+x))]:\n",
    "    print((method, f))\n",
    "    print(get_synonyms('disappear', method=method, f=f))"
   ]
  }
 ],
 "metadata": {
  "kernelspec": {
   "display_name": "Python 3",
   "language": "python",
   "name": "python3"
  },
  "language_info": {
   "codemirror_mode": {
    "name": "ipython",
    "version": 3
   },
   "file_extension": ".py",
   "mimetype": "text/x-python",
   "name": "python",
   "nbconvert_exporter": "python",
   "pygments_lexer": "ipython3",
   "version": "3.8.6"
  }
 },
 "nbformat": 4,
 "nbformat_minor": 4
}
