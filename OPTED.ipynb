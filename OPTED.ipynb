{
 "cells": [
  {
   "cell_type": "code",
   "execution_count": 1,
   "metadata": {},
   "outputs": [
    {
     "name": "stderr",
     "output_type": "stream",
     "text": [
      "[nltk_data] Downloading package wordnet to /home/marko/nltk_data...\n",
      "[nltk_data]   Package wordnet is already up-to-date!\n"
     ]
    },
    {
     "data": {
      "text/plain": [
       "True"
      ]
     },
     "execution_count": 1,
     "metadata": {},
     "output_type": "execute_result"
    }
   ],
   "source": [
    "from dictionary_graph import DictionaryGraph\n",
    "import pandas as pd\n",
    "import numpy as np\n",
    "import networkx as nx\n",
    "import matplotlib.pyplot as plt\n",
    "import nltk\n",
    "\n",
    "nltk.download('wordnet')"
   ]
  },
  {
   "cell_type": "code",
   "execution_count": 2,
   "metadata": {},
   "outputs": [
    {
     "name": "stdout",
     "output_type": "stream",
     "text": [
      "Broj vrhova: 106282\n",
      "Broj bridova: 1315090\n"
     ]
    }
   ],
   "source": [
    "graph = DictionaryGraph('OPTED', 'a-z')\n",
    "print('Broj vrhova: {}\\nBroj bridova: {}'.format(*graph.size()))"
   ]
  },
  {
   "cell_type": "code",
   "execution_count": 3,
   "metadata": {},
   "outputs": [],
   "source": [
    "def similarity_limit(A, B, iterations=50):\n",
    "    Z = np.full((B.shape[0], A.shape[0]), 1)\n",
    "    for i in range(2*iterations): # Paran broj iteracija\n",
    "        Z = B @ Z @ A.T + B.T @ Z @ A\n",
    "        Z /= np.linalg.norm(Z, 'fro')\n",
    "    return Z"
   ]
  },
  {
   "cell_type": "code",
   "execution_count": 4,
   "metadata": {},
   "outputs": [
    {
     "name": "stdout",
     "output_type": "stream",
     "text": [
      "\\begin{tabular}{llllll}\n",
      "\\toprule\n",
      "   WordNet &          0 &          1 &            2 &    2, sqrt & 2, log(1+x) \\\\\n",
      "\\midrule\n",
      " disappear &         to &  disappear &       evanid &     evanid &   disappear \\\\\n",
      "    vanish &         as &     vanish &       vanish &  disappear &      evanid \\\\\n",
      "      melt &          a &       pass &    disappear &     vanish &      vanish \\\\\n",
      " evaporate &         or &        die &        faint &      faint &          to \\\\\n",
      "   go away &         of &       fade &         fade &       fade &          as \\\\\n",
      "           &        the &       wear &          die &        die &        pass \\\\\n",
      "           &  disappear &      faint &         pass &       pass &        fade \\\\\n",
      "           &         be &       sail &    dissipate &  eliminate &       faint \\\\\n",
      "           &       from &  gradually &     evanesce &  dissipate &         die \\\\\n",
      "           &         at &      light &  disappeared &   evanesce &          or \\\\\n",
      "\\bottomrule\n",
      "\\end{tabular}\n",
      "\n"
     ]
    }
   ],
   "source": [
    "def get_synonyms(word, n=10, **kwargs):\n",
    "    vertices, adjacency_matrix = graph.adjacency_matrix(word, **kwargs)\n",
    "    S = pd.DataFrame(similarity_limit(\n",
    "        np.array([\n",
    "            [0, 1, 0],\n",
    "            [0, 0, 1],\n",
    "            [0, 0, 0],\n",
    "        ], dtype=np.float64),\n",
    "        adjacency_matrix,\n",
    "    ), index=vertices)\n",
    "    return S[1].nlargest(n)\n",
    "\n",
    "def compare_methods(word, n=10):\n",
    "    df = pd.DataFrame(index=range(n))\n",
    "    wordnet = [word] + list(set(j.name().replace('_', ' ') for i in nltk.corpus.wordnet.synsets(word) for j in i.lemmas()) - {word})\n",
    "    df['WordNet'] = pd.Series(wordnet).reindex(df.index)\n",
    "    df['0'] = get_synonyms(word, n, method=0).reset_index()['value'].reindex(df.index)\n",
    "    df['1'] = get_synonyms(word, n, method=1).reset_index()['value'].reindex(df.index)\n",
    "    df['2'] = get_synonyms(word, n, method=2).reset_index()['value'].reindex(df.index)\n",
    "    df['2, sqrt'] = get_synonyms(word, n, method=2, f=np.sqrt).reset_index()['value'].reindex(df.index)\n",
    "    df['2, log(1+x)'] = get_synonyms(word, n, method=2, f=lambda x: np.log(1+x)).reset_index()['value'].reindex(df.index)\n",
    "    return df\n",
    "\n",
    "print(compare_methods('disappear').to_latex(index=False, na_rep=''))"
   ]
  },
  {
   "cell_type": "code",
   "execution_count": 5,
   "metadata": {
    "scrolled": false
   },
   "outputs": [
    {
     "name": "stdout",
     "output_type": "stream",
     "text": [
      "(0, None)\n",
      "value\n",
      "to           0.190090\n",
      "as           0.187332\n",
      "a            0.179362\n",
      "or           0.177176\n",
      "of           0.172529\n",
      "the          0.160343\n",
      "disappear    0.140431\n",
      "be           0.132365\n",
      "from         0.127341\n",
      "at           0.107400\n",
      "Name: 1, dtype: float64\n",
      "(1, None)\n",
      "value\n",
      "disappear    0.369223\n",
      "vanish       0.191113\n",
      "pass         0.163782\n",
      "die          0.118671\n",
      "fade         0.103871\n",
      "wear         0.098721\n",
      "faint        0.097857\n",
      "sail         0.087878\n",
      "gradually    0.085647\n",
      "light        0.066490\n",
      "Name: 1, dtype: float64\n",
      "(2, None)\n",
      "value\n",
      "evanid         0.579569\n",
      "vanish         0.015435\n",
      "disappear      0.015208\n",
      "faint          0.007551\n",
      "fade           0.001621\n",
      "die            0.001493\n",
      "pass           0.001353\n",
      "dissipate      0.001344\n",
      "evanesce       0.001343\n",
      "disappeared    0.000805\n",
      "Name: 1, dtype: float64\n",
      "(2, <ufunc 'sqrt'>)\n",
      "value\n",
      "evanid       0.416421\n",
      "disappear    0.265976\n",
      "vanish       0.176820\n",
      "faint        0.106344\n",
      "fade         0.100385\n",
      "die          0.072913\n",
      "pass         0.063720\n",
      "eliminate    0.057937\n",
      "dissipate    0.053293\n",
      "evanesce     0.050597\n",
      "Name: 1, dtype: float64\n",
      "(2, <function <lambda> at 0x7f7f035514c0>)\n",
      "value\n",
      "disappear    0.300356\n",
      "evanid       0.181080\n",
      "vanish       0.178244\n",
      "to           0.122135\n",
      "as           0.111667\n",
      "pass         0.109854\n",
      "fade         0.106213\n",
      "faint        0.103701\n",
      "die          0.102707\n",
      "or           0.096935\n",
      "Name: 1, dtype: float64\n"
     ]
    }
   ],
   "source": [
    "# Metoda 0: Koristi sve veze među riječima\n",
    "# Metoda 1: Uklanja riječi iz induciranog grafa koje se pojavljuju u definicijama više od 1000 puta\n",
    "# Metoda 2: adjacency_matrix[i][j] iz metode 0 je dijelimo s brojem ukupnih pojavljivanja riječi j u definicijama\n",
    "# Metoda 2, f: adjacency_matrix[i][j] iz metode 0 dijelimo s f(broj ukupnih pojavljivanja riječi j u definicijama)\n",
    "for method, f in [(0, None), (1, None), (2, None), (2, np.sqrt), (2, lambda x: np.log(1+x))]:\n",
    "    print((method, f))\n",
    "    print(get_synonyms('disappear', method=method, f=f))"
   ]
  }
 ],
 "metadata": {
  "kernelspec": {
   "display_name": "Python 3",
   "language": "python",
   "name": "python3"
  },
  "language_info": {
   "codemirror_mode": {
    "name": "ipython",
    "version": 3
   },
   "file_extension": ".py",
   "mimetype": "text/x-python",
   "name": "python",
   "nbconvert_exporter": "python",
   "pygments_lexer": "ipython3",
   "version": "3.8.6"
  }
 },
 "nbformat": 4,
 "nbformat_minor": 4
}
