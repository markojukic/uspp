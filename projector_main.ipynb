{
 "cells": [
  {
   "cell_type": "code",
   "execution_count": 58,
   "metadata": {},
   "outputs": [],
   "source": [
    "from dictionary_graph import DictionaryGraph\n",
    "import pandas as pd\n",
    "import numpy as np\n",
    "from scipy.sparse.linalg import eigsh"
   ]
  },
  {
   "cell_type": "code",
   "execution_count": 59,
   "metadata": {},
   "outputs": [],
   "source": [
    "def similarity_projector(A, B):\n",
    "    B = B.toarray()\n",
    "    M = np.kron(A, B) + np.kron(A.T, B.T)\n",
    "    Z = np.full((A.shape[0] * B.shape[0], 1), 1)\n",
    "    eigenvalues, V = eigsh(M, k=2)\n",
    "    assert np.isclose(np.dot(V[:,0], V[:,1]), 0)\n",
    "    P = V@V.T\n",
    "    assert(np.allclose(P, P@P))\n",
    "    L = P@Z\n",
    "    L = L / np.linalg.norm(L, 'fro')\n",
    "    return L.reshape(A.shape[0], B.shape[0]).T"
   ]
  },
  {
   "cell_type": "code",
   "execution_count": 60,
   "metadata": {},
   "outputs": [],
   "source": [
    "def get_synonyms_projector(word, n=10, **kwargs):\n",
    "    vertices, adjacency_matrix = graph.adjacency_matrix(word, **kwargs)\n",
    "    S = pd.DataFrame(similarity_projector(\n",
    "        np.array([\n",
    "            [0, 1, 0],\n",
    "            [0, 0, 1],\n",
    "            [0, 0, 0],\n",
    "        ], dtype=np.float64),\n",
    "        adjacency_matrix,\n",
    "    ), index=vertices)\n",
    "    return S[1].nlargest(n)"
   ]
  },
  {
   "cell_type": "code",
   "execution_count": 61,
   "metadata": {},
   "outputs": [],
   "source": [
    "graph = DictionaryGraph('OPTED', 'a-z')\n",
    "\n",
    "def get_synonyms(word, n=10, **kwargs):\n",
    "    vertices, adjacency_matrix = graph.adjacency_matrix(word, **kwargs)\n",
    "    S = pd.DataFrame(similarity_projector(\n",
    "        np.array([\n",
    "            [0, 1, 0],\n",
    "            [0, 0, 1],\n",
    "            [0, 0, 0],\n",
    "        ], dtype=np.float64),\n",
    "        adjacency_matrix,\n",
    "    ), index=vertices)\n",
    "    return S[1].nlargest(n)"
   ]
  },
  {
   "cell_type": "code",
   "execution_count": 63,
   "metadata": {},
   "outputs": [
    {
     "name": "stdout",
     "output_type": "stream",
     "text": [
      "(0, None)\n",
      "value\n",
      "to           0.191060\n",
      "as           0.188393\n",
      "a            0.180137\n",
      "or           0.178049\n",
      "of           0.173065\n",
      "the          0.160774\n",
      "disappear    0.142423\n",
      "be           0.131523\n",
      "from         0.126350\n",
      "at           0.109615\n",
      "Name: 1, dtype: float64\n",
      "(1, None)\n",
      "value\n",
      "disappear    0.372864\n",
      "vanish       0.196902\n",
      "pass         0.150385\n",
      "die          0.123481\n",
      "fade         0.111587\n",
      "faint        0.105166\n",
      "wear         0.091632\n",
      "gradually    0.087204\n",
      "light        0.066426\n",
      "evanid       0.061807\n",
      "Name: 1, dtype: float64\n",
      "(2, None)\n",
      "value\n",
      "evanid         0.579632\n",
      "vanish         0.016232\n",
      "disappear      0.015307\n",
      "faint          0.007629\n",
      "fade           0.001704\n",
      "die            0.001570\n",
      "pass           0.001428\n",
      "dissipate      0.001419\n",
      "evanesce       0.001418\n",
      "disappeared    0.000820\n",
      "Name: 1, dtype: float64\n",
      "(2, <ufunc 'sqrt'>)\n",
      "value\n",
      "evanid       0.412433\n",
      "disappear    0.267852\n",
      "vanish       0.181600\n",
      "faint        0.107371\n",
      "fade         0.102122\n",
      "die          0.074100\n",
      "pass         0.064194\n",
      "eliminate    0.057670\n",
      "dissipate    0.054380\n",
      "evanesce     0.051679\n",
      "Name: 1, dtype: float64\n",
      "(2, <function <lambda> at 0x7f77712fdb80>)\n",
      "value\n",
      "disappear    0.301619\n",
      "evanid       0.187195\n",
      "vanish       0.181794\n",
      "to           0.120929\n",
      "as           0.110797\n",
      "fade         0.108218\n",
      "faint        0.105807\n",
      "pass         0.105748\n",
      "die          0.103572\n",
      "or           0.095774\n",
      "Name: 1, dtype: float64\n"
     ]
    }
   ],
   "source": [
    "for method, f in [(0, None), (1, None), (2, None), (2, np.sqrt), (2, lambda x: np.log(1+x))]:\n",
    "    print((method, f))\n",
    "    print(get_synonyms('disappear', method=method, f=f))"
   ]
  }
 ],
 "metadata": {
  "kernelspec": {
   "display_name": "Python 3",
   "language": "python",
   "name": "python3"
  },
  "language_info": {
   "codemirror_mode": {
    "name": "ipython",
    "version": 3
   },
   "file_extension": ".py",
   "mimetype": "text/x-python",
   "name": "python",
   "nbconvert_exporter": "python",
   "pygments_lexer": "ipython3",
   "version": "3.8.5"
  }
 },
 "nbformat": 4,
 "nbformat_minor": 4
}
